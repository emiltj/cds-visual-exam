{
 "cells": [
  {
   "cell_type": "code",
   "execution_count": 1,
   "metadata": {},
   "outputs": [],
   "source": [
    "#!/usr/bin/env python\n",
    "\n",
    "# data tools\n",
    "import os, cv2, glob, argparse\n",
    "import numpy as np\n",
    "import matplotlib.pyplot as plt\n",
    "import pandas as pd\n",
    "\n",
    "# sklearn tools\n",
    "from sklearn.preprocessing import LabelBinarizer\n",
    "from sklearn.preprocessing import LabelEncoder\n",
    "from sklearn.metrics import classification_report\n",
    "from sklearn.model_selection import train_test_split\n",
    "from sklearn.preprocessing import MinMaxScaler\n",
    "from sklearn.preprocessing import OneHotEncoder\n",
    "\n",
    "# tf tools\n",
    "import tensorflow as tf\n",
    "from tensorflow.keras.datasets import cifar10\n",
    "from tensorflow.keras.models import Sequential\n",
    "from tensorflow.keras.models import Model\n",
    "from tensorflow.keras.utils import plot_model\n",
    "from tensorflow.keras.optimizers import SGD, Adam\n",
    "from tensorflow.keras import backend as K\n",
    "from tensorflow.keras.layers import (Conv2D,\n",
    "                                     MaxPool2D,\n",
    "                                     MaxPooling2D, \n",
    "                                     Activation, \n",
    "                                     Flatten,\n",
    "                                     Dropout,\n",
    "                                     Dense)\n",
    "from tensorflow.keras.preprocessing.image import (load_img,\n",
    "                                                  img_to_array,\n",
    "                                                  ImageDataGenerator)\n",
    "from tensorflow.keras.applications.vgg16 import (preprocess_input,\n",
    "                                                 decode_predictions,\n",
    "                                                 VGG16)"
   ]
  },
  {
   "cell_type": "markdown",
   "metadata": {},
   "source": [
    "# Define functions"
   ]
  },
  {
   "cell_type": "code",
   "execution_count": 107,
   "metadata": {},
   "outputs": [],
   "source": [
    "height = 224\n",
    "width = 224\n",
    "epochs = 10\n",
    "base_learning_rate = 0.001\n",
    "\n",
    "# Define model\n",
    "base_model = tf.keras.applications.MobileNetV2(input_shape = (224, 224, 3), include_top = False, weights = \"imagenet\")\n",
    "\n",
    "# Refrain from training the pretrained weights\n",
    "base_model.trainable = False\n",
    "\n",
    "# Add layers to the pre-trained model\n",
    "model = tf.keras.Sequential([base_model,\n",
    "                                 tf.keras.layers.GlobalAveragePooling2D(),\n",
    "                                 tf.keras.layers.Dropout(0.2),\n",
    "                                 tf.keras.layers.Dense(2, activation=\"softmax\")])\n",
    "\n",
    "# Compile model\n",
    "model.compile(optimizer=tf.keras.optimizers.Adam(lr = base_learning_rate),\n",
    "              loss=tf.keras.losses.BinaryCrossentropy(from_logits = True),\n",
    "              metrics=['accuracy'])\n",
    "\n",
    "def read_from_folders(folders):\n",
    "    \"\"\"\n",
    "    Function which reads images from a list of folders, as well as generates a label, based on the folder names. \n",
    "    Returns a data frame with all the information.\n",
    "    \"\"\"\n",
    "    arrays = []\n",
    "    labels = []\n",
    "    \n",
    "    for folder in folders:\n",
    "        \n",
    "        folderpath = os.path.join(\"data\", folder)\n",
    "        \n",
    "        print(f\"[INFO] Loading images from: \\\"{folderpath}\\\" ...\") # Info for terminal\n",
    "        \n",
    "        for file in glob.glob(os.path.join(folderpath, \"*.jpg\")):\n",
    "            arrays.append(cv2.imread(file))\n",
    "            labels.append(f\"{os.path.split(folderpath)[1]}\")\n",
    "    \n",
    "    # Create dataframe from labels and arrays\n",
    "    df = pd.DataFrame.from_dict({\"X\" : arrays, \"y\" : labels})\n",
    "    \n",
    "    return df\n",
    "\n",
    "# Define function for resizing and making into array\n",
    "def get_resized_arrays(arrays, width, height):\n",
    "    \"\"\"\n",
    "    Function which resizes arrays to input dimensions - also scales arrays to be between 0 and 1\n",
    "    \"\"\"\n",
    "    # Info for terminal use\n",
    "    print(\"[INFO] Resizing images ...\")\n",
    "    \n",
    "    # If pd.series, convert to list\n",
    "    if type(arrays) == \"pandas.core.series.Series\":\n",
    "        arrays = list(arrays)\n",
    "    \n",
    "    # Empty list for appending to\n",
    "    arrays_resized = []\n",
    "    \n",
    "    # For every array in the list of arrays\n",
    "    for array in arrays:\n",
    "        # Resize array\n",
    "        resized = cv2.resize(array, (width, height), interpolation = cv2.INTER_AREA)\n",
    "        \n",
    "        # Convert to array and values between 0 and 1 to allow to be used in CNN (using list comprehension)\n",
    "        resized = np.asarray(resized/255.).astype(\"float32\")\n",
    "\n",
    "        # Append to list\n",
    "        arrays_resized.append(resized)\n",
    "\n",
    "    # Return\n",
    "    return arrays_resized\n",
    "\n",
    "def get_formatted(X, y):\n",
    "    \"\"\"\n",
    "    Function that formats arrays and labels to be usable in the CNN.\n",
    "    \"\"\"\n",
    "    # Format X\n",
    "    X = np.array(X).reshape(len(X), width, height, 3)\n",
    "    \n",
    "    # Format y\n",
    "    lb, enc = LabelEncoder(), OneHotEncoder()\n",
    "    y = lb.fit_transform(y).reshape(-1,1)\n",
    "    y = enc.fit_transform(y).toarray()\n",
    "    \n",
    "    return X, y\n",
    "\n",
    "def plot_history(H, epochs):\n",
    "    \"\"\"\n",
    "    Function which plots accuracy and loss over epochs.\n",
    "    \"\"\"\n",
    "    # Make a list of epochs\n",
    "    epochs_range = range(epochs)\n",
    "    \n",
    "    # Create a plot showing accuracies\n",
    "    plt.figure(figsize = (15, 15))\n",
    "    plt.subplot(2, 2, 1)\n",
    "    plt.plot(epochs_range, H.history['accuracy'], label = 'Training accuracy')\n",
    "    plt.plot(epochs_range, H.history['val_accuracy'], label = 'Validation accuracy')\n",
    "    plt.legend(loc = 'lower right')\n",
    "    plt.title('Training and Validation Accuracy')\n",
    "\n",
    "    # Create a plot showing loss\n",
    "    plt.subplot(2, 2, 2)\n",
    "    plt.plot(epochs_range, H.history['loss'], label = 'Training loss')\n",
    "    plt.plot(epochs_range, H.history['val_loss'], label = 'Validation loss')\n",
    "    plt.legend(loc = 'upper right')\n",
    "    plt.title('Training and Validation Loss')\n",
    "    \n",
    "    #Save plot\n",
    "    plt.savefig(os.path.join(\"out\", 'training_history.png'), format = 'png', dpi = 100)\n",
    "    plt.show()\n",
    "\n",
    "def get_classif_report(X_test, y_test, outname):\n",
    "    # Make predictions\n",
    "    predictions = model.predict(X_test, batch_size = 32)\n",
    "    \n",
    "    # Create classification report\n",
    "    classif_report = pd.DataFrame(classification_report(y_test.argmax(axis = 1),\n",
    "                                predictions.argmax(axis = 1),\n",
    "                                target_names = label_names, output_dict = True))\n",
    "    \n",
    "    # Create outpath if it does not already exist\n",
    "    if not os.path.exists(\"out\"):\n",
    "        os.makedirs(\"out\")\n",
    "    \n",
    "    # Print and save classification report\n",
    "    print(classif_report)\n",
    "    \n",
    "    # Save classification report\n",
    "    classif_report_outpath = os.path.join(\"out\", f'{outname}')\n",
    "    classif_report.to_csv(classif_report_outpath, sep = ',', index = True)\n",
    "    print(f\"A classification report has been saved succesfully: \\\"{classif_report_outpath}\\\"\")"
   ]
  },
  {
   "cell_type": "code",
   "execution_count": 108,
   "metadata": {
    "scrolled": true
   },
   "outputs": [
    {
     "name": "stdout",
     "output_type": "stream",
     "text": [
      "[INFO] Loading images from: \"data/content_monet_style_cezanne\" ...\n",
      "[INFO] Loading images from: \"data/content_monet_style_monet\" ...\n",
      "[INFO] Loading images from: \"data/content_cezanne_style_monet\" ...\n",
      "[INFO] Loading images from: \"data/content_cezanne_style_cezanne\" ...\n",
      "[INFO] Resizing images ...\n"
     ]
    }
   ],
   "source": [
    "# Load data\n",
    "folders = os.listdir(\"data\")\n",
    "df = read_from_folders(folders)\n",
    "df[\"X\"] = get_resized_arrays(df[\"X\"], 224, 224)"
   ]
  },
  {
   "cell_type": "markdown",
   "metadata": {},
   "source": [
    "# Train Monet/Cezanne classifier"
   ]
  },
  {
   "cell_type": "code",
   "execution_count": 109,
   "metadata": {},
   "outputs": [],
   "source": [
    "# Create dataframe with subset\n",
    "df_orig = df.loc[(df['y'] == \"content_monet_style_monet\") | (df['y'] == \"content_cezanne_style_cezanne\")]\n",
    "df_orig = df_orig.replace({'y' : { 'content_monet_style_monet' : \"monet\", 'content_cezanne_style_cezanne' : \"cezanne\"}})"
   ]
  },
  {
   "cell_type": "code",
   "execution_count": 110,
   "metadata": {},
   "outputs": [],
   "source": [
    "# Define X and y\n",
    "X = list(df_orig[\"X\"])\n",
    "y = list(df_orig[\"y\"])"
   ]
  },
  {
   "cell_type": "code",
   "execution_count": 111,
   "metadata": {},
   "outputs": [],
   "source": [
    "#Get labelnames\n",
    "label_names = set(y)"
   ]
  },
  {
   "cell_type": "code",
   "execution_count": 112,
   "metadata": {},
   "outputs": [],
   "source": [
    "# Format to match expected input for CNN\n",
    "X, y = get_formatted(X, y)"
   ]
  },
  {
   "cell_type": "code",
   "execution_count": 113,
   "metadata": {},
   "outputs": [],
   "source": [
    "# Make a test-train split\n",
    "X_train, X_test, y_train, y_test = train_test_split(X, \n",
    "                                                    y, \n",
    "                                                    random_state = 9, # for replication purposes\n",
    "                                                    train_size = .8)"
   ]
  },
  {
   "cell_type": "code",
   "execution_count": 114,
   "metadata": {},
   "outputs": [
    {
     "name": "stdout",
     "output_type": "stream",
     "text": [
      "Epoch 1/10\n",
      "25/25 [==============================] - 24s 851ms/step - loss: 0.7820 - accuracy: 0.4840 - val_loss: 0.3886 - val_accuracy: 0.8593\n",
      "Epoch 2/10\n",
      "25/25 [==============================] - 20s 819ms/step - loss: 0.3897 - accuracy: 0.8651 - val_loss: 0.2696 - val_accuracy: 0.9196\n",
      "Epoch 3/10\n",
      "25/25 [==============================] - 19s 767ms/step - loss: 0.2938 - accuracy: 0.9040 - val_loss: 0.2310 - val_accuracy: 0.9246\n",
      "Epoch 4/10\n",
      "25/25 [==============================] - 20s 812ms/step - loss: 0.2469 - accuracy: 0.9059 - val_loss: 0.2058 - val_accuracy: 0.9447\n",
      "Epoch 5/10\n",
      "25/25 [==============================] - 20s 810ms/step - loss: 0.2020 - accuracy: 0.9381 - val_loss: 0.2044 - val_accuracy: 0.9397\n",
      "Epoch 6/10\n",
      "25/25 [==============================] - 21s 843ms/step - loss: 0.1831 - accuracy: 0.9375 - val_loss: 0.1831 - val_accuracy: 0.9397\n",
      "Epoch 7/10\n",
      "25/25 [==============================] - 20s 817ms/step - loss: 0.1972 - accuracy: 0.9302 - val_loss: 0.1774 - val_accuracy: 0.9397\n",
      "Epoch 8/10\n",
      "25/25 [==============================] - 20s 825ms/step - loss: 0.1722 - accuracy: 0.9531 - val_loss: 0.1707 - val_accuracy: 0.9397\n",
      "Epoch 9/10\n",
      "25/25 [==============================] - 19s 781ms/step - loss: 0.1743 - accuracy: 0.9305 - val_loss: 0.1730 - val_accuracy: 0.9397\n",
      "Epoch 10/10\n",
      "25/25 [==============================] - 19s 764ms/step - loss: 0.1489 - accuracy: 0.9595 - val_loss: 0.1624 - val_accuracy: 0.9447\n"
     ]
    }
   ],
   "source": [
    "# Fit the model to the data\n",
    "history = model.fit(X_train, y_train, \n",
    "              validation_data = (X_test, y_test), \n",
    "              batch_size = 32,\n",
    "              epochs = epochs)"
   ]
  },
  {
   "cell_type": "code",
   "execution_count": 115,
   "metadata": {},
   "outputs": [
    {
     "data": {
      "image/png": "[encoded data removed]",
      "text/plain": [
       "<Figure size 1080x1080 with 2 Axes>"
      ]
     },
     "metadata": {
      "needs_background": "light"
     },
     "output_type": "display_data"
    }
   ],
   "source": [
    "plot_history(history, epochs)"
   ]
  },
  {
   "cell_type": "markdown",
   "metadata": {},
   "source": [
    "# Test Monet/Cezanne classifier"
   ]
  },
  {
   "cell_type": "code",
   "execution_count": 116,
   "metadata": {},
   "outputs": [
    {
     "name": "stdout",
     "output_type": "stream",
     "text": [
      "                monet    cezanne  accuracy   macro avg  weighted avg\n",
      "precision    0.924528   0.967742  0.944724    0.946135      0.945809\n",
      "recall       0.970297   0.918367  0.944724    0.944332      0.944724\n",
      "f1-score     0.946860   0.942408  0.944724    0.944634      0.944668\n",
      "support    101.000000  98.000000  0.944724  199.000000    199.000000\n",
      "A classification report has been saved succesfully: \"out/classification_report_generated.csv\"\n"
     ]
    }
   ],
   "source": [
    "get_classif_report(X_test, y_test, \"classification_report_generated.csv\")"
   ]
  },
  {
   "cell_type": "markdown",
   "metadata": {},
   "source": [
    "# Testing classifier on generated data"
   ]
  },
  {
   "cell_type": "code",
   "execution_count": 117,
   "metadata": {},
   "outputs": [],
   "source": [
    "df_stylized = df.loc[(df['y'] == \"content_monet_style_cezanne\") | (df['y'] == \"content_cezanne_style_monet\")]\n",
    "df_stylized = df_stylized.replace({'y' : { 'content_monet_style_cezanne' : \"monet\", 'content_cezanne_style_monet' : \"cezanne\"}})"
   ]
  },
  {
   "cell_type": "code",
   "execution_count": 118,
   "metadata": {},
   "outputs": [],
   "source": [
    "X = list(df_stylized[\"X\"])\n",
    "y = list(df_stylized[\"y\"])"
   ]
  },
  {
   "cell_type": "code",
   "execution_count": 119,
   "metadata": {},
   "outputs": [],
   "source": [
    "# Format to match expected input for CNN\n",
    "X_test, y_test = get_formatted(X, y)"
   ]
  },
  {
   "cell_type": "code",
   "execution_count": 120,
   "metadata": {},
   "outputs": [
    {
     "name": "stdout",
     "output_type": "stream",
     "text": [
      "                monet     cezanne  accuracy   macro avg  weighted avg\n",
      "precision    0.206089    0.278660  0.247485    0.242374      0.242374\n",
      "recall       0.177062    0.317907  0.247485    0.247485      0.247485\n",
      "f1-score     0.190476    0.296992  0.247485    0.243734      0.243734\n",
      "support    497.000000  497.000000  0.247485  994.000000    994.000000\n",
      "A classification report has been saved succesfully: \"out/classification_report_generated.csv\"\n"
     ]
    }
   ],
   "source": [
    "# Get and save classification report\n",
    "get_classif_report(X_test, y_test, \"classification_report_generated.csv\")"
   ]
  },
  {
   "cell_type": "code",
   "execution_count": 121,
   "metadata": {},
   "outputs": [],
   "source": [
    "# Seems less reliant on content, and more on style ... ?"
   ]
  },
  {
   "cell_type": "code",
   "execution_count": null,
   "metadata": {},
   "outputs": [],
   "source": []
  },
  {
   "cell_type": "code",
   "execution_count": null,
   "metadata": {},
   "outputs": [],
   "source": []
  },
  {
   "cell_type": "code",
   "execution_count": null,
   "metadata": {},
   "outputs": [],
   "source": []
  },
  {
   "cell_type": "code",
   "execution_count": null,
   "metadata": {},
   "outputs": [],
   "source": []
  },
  {
   "cell_type": "code",
   "execution_count": null,
   "metadata": {},
   "outputs": [],
   "source": []
  },
  {
   "cell_type": "code",
   "execution_count": null,
   "metadata": {},
   "outputs": [],
   "source": []
  },
  {
   "cell_type": "code",
   "execution_count": null,
   "metadata": {},
   "outputs": [],
   "source": []
  },
  {
   "cell_type": "code",
   "execution_count": null,
   "metadata": {},
   "outputs": [],
   "source": []
  },
  {
   "cell_type": "code",
   "execution_count": null,
   "metadata": {},
   "outputs": [],
   "source": []
  }
 ],
 "metadata": {
  "kernelspec": {
   "display_name": "cv101",
   "language": "python",
   "name": "cv101"
  },
  "language_info": {
   "codemirror_mode": {
    "name": "ipython",
    "version": 3
   },
   "file_extension": ".py",
   "mimetype": "text/x-python",
   "name": "python",
   "nbconvert_exporter": "python",
   "pygments_lexer": "ipython3",
   "version": "3.6.9"
  }
 },
 "nbformat": 4,
 "nbformat_minor": 4
}
