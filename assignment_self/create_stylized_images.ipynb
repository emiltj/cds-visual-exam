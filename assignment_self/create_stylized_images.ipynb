{
 "cells": [
  {
   "cell_type": "code",
   "execution_count": 30,
   "metadata": {},
   "outputs": [],
   "source": [
    "# base tools\n",
    "import os, sys, random, cv2, glob\n",
    "sys.path.append(os.path.join(\"..\"))\n",
    "\n",
    "from utils.imutils import jimshow\n",
    "from utils.imutils import jimshow_channel\n",
    "\n",
    "# data analysis\n",
    "import numpy as np\n",
    "from PIL import Image\n",
    "from numpy.linalg import norm\n",
    "from tqdm import tqdm\n",
    "\n",
    "# tensorflow\n",
    "import tensorflow_hub as hub\n",
    "from tensorflow.keras.preprocessing.image import load_img, img_to_array\n",
    "from tensorflow.keras.applications.vgg16 import VGG16, preprocess_input\n",
    "from tensorflow.keras.applications.resnet50 import ResNet50, preprocess_input\n",
    "\n",
    "# style utils \n",
    "from utils.styletransfer import *\n",
    "\n",
    "# matplotlib\n",
    "import matplotlib.pyplot as plt\n",
    "import matplotlib.image as mpimg\n",
    "%matplotlib inline"
   ]
  },
  {
   "cell_type": "code",
   "execution_count": 31,
   "metadata": {},
   "outputs": [],
   "source": [
    "# Load TF-Hub module.\n",
    "hub_handle = 'https://tfhub.dev/google/magenta/arbitrary-image-stylization-v1-256/2'\n",
    "hub_module = hub.load(hub_handle)"
   ]
  },
  {
   "cell_type": "code",
   "execution_count": 33,
   "metadata": {},
   "outputs": [],
   "source": [
    "vangogh = []\n",
    "for filename in glob.glob(os.path.join(\"data\", \"content_vangogh_style_vangogh\", \"*jpg\")):\n",
    "    vangogh.append(st_load(filename))"
   ]
  },
  {
   "cell_type": "code",
   "execution_count": 34,
   "metadata": {},
   "outputs": [],
   "source": [
    "monet = []\n",
    "for filename in glob.glob(os.path.join(\"data\", \"content_monet_style_monet\", \"*jpg\")):\n",
    "    monet.append(st_load(filename))"
   ]
  },
  {
   "cell_type": "code",
   "execution_count": 35,
   "metadata": {},
   "outputs": [],
   "source": [
    "if len(monet) > len(vangogh):\n",
    "    monet = monet[:len(vangogh)]\n",
    "elif len(monet) < len(vangogh):\n",
    "    vangogh = vangogh[:len(monet)]"
   ]
  },
  {
   "cell_type": "code",
   "execution_count": 36,
   "metadata": {},
   "outputs": [],
   "source": [
    "vangogh = vangogh[:100]\n",
    "monet = monet[:100]"
   ]
  },
  {
   "cell_type": "code",
   "execution_count": 37,
   "metadata": {},
   "outputs": [],
   "source": [
    "random.shuffle(monet)\n",
    "random.shuffle(vangogh)"
   ]
  },
  {
   "cell_type": "code",
   "execution_count": null,
   "metadata": {},
   "outputs": [],
   "source": [
    "content_vangogh_style_monet = []\n",
    "content_monet_style_vangogh = []\n",
    "\n",
    "# For pair of two images in image pairs\n",
    "for van, mon in zip(vangogh, monet):\n",
    "    \n",
    "    # Get the generated images (as np.asarrays)\n",
    "    content_vangogh_style_monet.append(np.asarray(hub_module(van, mon)[0][0])) # First argument is content image, second is style\n",
    "    content_monet_style_vangogh.append(np.asarray(hub_module(mon, van)[0][0])) # First argument is content image, second is style"
   ]
  },
  {
   "cell_type": "code",
   "execution_count": null,
   "metadata": {},
   "outputs": [],
   "source": [
    "# Empty list for appending to\n",
    "RGB = []\n",
    "\n",
    "# Convert from BGR to RGB\n",
    "for i in content_monet_style_vangogh:\n",
    "    i = i[:,:,::-1]\n",
    "    RGB.append(i)\n",
    "    content_monet_style_vangogh = RGB"
   ]
  },
  {
   "cell_type": "code",
   "execution_count": null,
   "metadata": {},
   "outputs": [],
   "source": [
    "# Define function for resizing and making into array\n",
    "def get_resized_arrays(arrays, width, height):\n",
    "    # Empty list for appending to\n",
    "    arrays_resized = []\n",
    "    \n",
    "    # For every array in the list of arrays\n",
    "    for array in arrays:\n",
    "        # Resize array\n",
    "        resized = cv2.resize(array, (width, height), interpolation = cv2.INTER_AREA)\n",
    "\n",
    "        # Append to list\n",
    "        arrays_resized.append(resized)\n",
    "            \n",
    "    # Make into arrays with same dimensions instead of lists\n",
    "    arrays_resized = np.array(arrays_resized).reshape(len(arrays_resized), width, height, 3)\n",
    "    \n",
    "    # Return\n",
    "    return arrays"
   ]
  },
  {
   "cell_type": "code",
   "execution_count": null,
   "metadata": {},
   "outputs": [],
   "source": [
    "content_vangogh_style_monet = get_resized_arrays(content_vangogh_style_monet, 128, 128)\n",
    "content_monet_style_vangogh = get_resized_arrays(content_monet_style_vangogh, 128, 128)"
   ]
  },
  {
   "cell_type": "code",
   "execution_count": null,
   "metadata": {},
   "outputs": [],
   "source": [
    "# Define function for saving the stylized images\n",
    "def save_stylized(stylized_imgs, content_monet):\n",
    "    # Initialize counter for unique names\n",
    "    counter = 1\n",
    "    \n",
    "    # Defining outfolder\n",
    "    if content_monet == True:\n",
    "        # Create dir if not exist\n",
    "        if not os.path.exists(os.path.join(\"data\", \"content_monet_style_vangogh\")):\n",
    "            os.mkdir(os.path.join(\"data\", \"content_monet_style_vangogh\"))\n",
    "            \n",
    "        # Define outfolder for outpath\n",
    "        outfolder = os.path.join(\"data\", \"content_monet_style_vangogh\")\n",
    "        \n",
    "    else:\n",
    "        # Create dir if not exist\n",
    "        if not os.path.exists(os.path.join(\"data\", \"content_vangogh_style_monet\")):\n",
    "            os.mkdir(os.path.join(\"data\", \"content_vangogh_style_monet\"))\n",
    "            \n",
    "        # Define outfolder for outpath\n",
    "        outfolder = os.path.join(\"data\", \"content_vangogh_style_monet\")\n",
    "    \n",
    "    # Saving stylized images\n",
    "    for i in stylized_imgs:\n",
    "        \n",
    "        # Get unique filename ending\n",
    "        counter += 1\n",
    "        \n",
    "        # Outpath\n",
    "        outpath = os.path.join(outfolder, f\"img_{counter}.jpg\")\n",
    "        \n",
    "        # Saving\n",
    "        cv2.imwrite(outpath, i*255) # Imwrite doesn't take values between 0 and 1, but rather 0 and 255"
   ]
  },
  {
   "cell_type": "code",
   "execution_count": null,
   "metadata": {},
   "outputs": [],
   "source": [
    "save_stylized(content_monet_style_vangogh, True)\n",
    "save_stylized(content_vangogh_style_monet, False)"
   ]
  },
  {
   "cell_type": "code",
   "execution_count": null,
   "metadata": {},
   "outputs": [],
   "source": [
    "jimshow(content_monet_style_vangogh[0])"
   ]
  },
  {
   "cell_type": "code",
   "execution_count": null,
   "metadata": {},
   "outputs": [],
   "source": []
  }
 ],
 "metadata": {
  "kernelspec": {
   "display_name": "cv101",
   "language": "python",
   "name": "cv101"
  },
  "language_info": {
   "codemirror_mode": {
    "name": "ipython",
    "version": 3
   },
   "file_extension": ".py",
   "mimetype": "text/x-python",
   "name": "python",
   "nbconvert_exporter": "python",
   "pygments_lexer": "ipython3",
   "version": "3.6.9"
  }
 },
 "nbformat": 4,
 "nbformat_minor": 4
}
