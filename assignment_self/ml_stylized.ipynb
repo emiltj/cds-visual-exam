{
 "cells": [
  {
   "cell_type": "code",
   "execution_count": 135,
   "metadata": {},
   "outputs": [],
   "source": [
    "#!/usr/bin/env python\n",
    "\n",
    "# data tools\n",
    "import os, cv2, glob, argparse\n",
    "import numpy as np\n",
    "import matplotlib.pyplot as plt\n",
    "import pandas as pd\n",
    "\n",
    "# sklearn tools\n",
    "from sklearn.preprocessing import LabelBinarizer\n",
    "from sklearn.preprocessing import LabelEncoder\n",
    "from sklearn.metrics import classification_report\n",
    "from sklearn.model_selection import train_test_split\n",
    "from sklearn.preprocessing import MinMaxScaler\n",
    "from sklearn.preprocessing import OneHotEncoder\n",
    "\n",
    "# tf tools\n",
    "import tensorflow as tf\n",
    "from tensorflow.keras.datasets import cifar10\n",
    "from tensorflow.keras.models import Sequential\n",
    "from tensorflow.keras.models import Model\n",
    "from tensorflow.keras.utils import plot_model\n",
    "from tensorflow.keras.optimizers import SGD, Adam\n",
    "from tensorflow.keras import backend as K\n",
    "from tensorflow.keras.layers import (Conv2D,\n",
    "                                     MaxPool2D,\n",
    "                                     MaxPooling2D, \n",
    "                                     Activation, \n",
    "                                     Flatten,\n",
    "                                     Dropout,\n",
    "                                     Dense)\n",
    "from tensorflow.keras.preprocessing.image import (load_img,\n",
    "                                                  img_to_array,\n",
    "                                                  ImageDataGenerator)\n",
    "from tensorflow.keras.applications.vgg16 import (preprocess_input,\n",
    "                                                 decode_predictions,\n",
    "                                                 VGG16)"
   ]
  },
  {
   "cell_type": "code",
   "execution_count": 136,
   "metadata": {},
   "outputs": [],
   "source": [
    "base_model = tf.keras.applications.MobileNetV2(input_shape = (224, 224, 3), include_top = False, weights = \"imagenet\")\n",
    "base_model.trainable = False\n",
    "model = tf.keras.Sequential([base_model,\n",
    "                                 tf.keras.layers.GlobalAveragePooling2D(),\n",
    "                                 tf.keras.layers.Dropout(0.2),\n",
    "                                 tf.keras.layers.Dense(2, activation=\"softmax\")])\n",
    "\n",
    "base_learning_rate = 0.001\n",
    "model.compile(optimizer=tf.keras.optimizers.Adam(lr=base_learning_rate),\n",
    "              loss=tf.keras.losses.BinaryCrossentropy(from_logits=True),\n",
    "              metrics=['accuracy'])"
   ]
  },
  {
   "cell_type": "code",
   "execution_count": 137,
   "metadata": {},
   "outputs": [],
   "source": [
    "height = 224\n",
    "width = 224\n",
    "\n",
    "def read_data(filepath):\n",
    "    # Info for terminal\n",
    "    print(f\"[INFO] Loading images: \\\"{filepath}\\\" ...\")\n",
    "    \n",
    "    # Empty list for appending to\n",
    "    X = []\n",
    "    \n",
    "    # For each file read and append to list\n",
    "    for img in glob.glob(os.path.join(filepath, \"*.jpg\")):\n",
    "        X.append(cv2.imread(img))\n",
    "    \n",
    "    # Create label, based on folder origin\n",
    "    y = [f\"{os.path.split(filepath)[1]}\"] * len(X)\n",
    "    \n",
    "    # Return labels and images\n",
    "    return X, y\n",
    "\n",
    "# Define function for resizing and making into array\n",
    "def get_resized_arrays(arrays, width, height):\n",
    "    # Info for terminal use\n",
    "    print(\"[INFO] Resizing images ...\")\n",
    "    \n",
    "    # Empty list for appending to\n",
    "    arrays_resized = []\n",
    "    \n",
    "    # For every array in the list of arrays\n",
    "    for array in arrays:\n",
    "        # Resize array\n",
    "        resized = cv2.resize(array, (width, height), interpolation = cv2.INTER_AREA)\n",
    "        \n",
    "        # Convert to array and values between 0 and 1 to allow to be used in CNN (using list comprehension)\n",
    "        resized = np.asarray(resized/255.).astype(\"float32\")\n",
    "\n",
    "        # Append to list\n",
    "        arrays_resized.append(resized)\n",
    "\n",
    "    # Return\n",
    "    return arrays_resized\n",
    "\n",
    "def plot_history(H, epochs):\n",
    "    \"\"\"\n",
    "    Function which plots accuracy and loss over epochs\n",
    "    \"\"\"\n",
    "    # Make a list of epochs\n",
    "    epochs_range = range(epochs)\n",
    "    \n",
    "    # Create a plot showing accuracies\n",
    "    plt.figure(figsize = (15, 15))\n",
    "    plt.subplot(2, 2, 1)\n",
    "    plt.plot(epochs_range, H.history['accuracy'], label='Training accuracy')\n",
    "    plt.plot(epochs_range, H.history['val_accuracy'], label='Validation accuracy')\n",
    "    plt.legend(loc = 'lower right')\n",
    "    plt.title('Training and Validation Accuracy')\n",
    "\n",
    "    # Create a plot showing loss\n",
    "    plt.subplot(2, 2, 2)\n",
    "    plt.plot(epochs_range, H.history['loss'], label='Training loss')\n",
    "    plt.plot(epochs_range, H.history['val_loss'], label='Validation loss')\n",
    "    plt.legend(loc = 'upper right')\n",
    "    plt.title('Training and Validation Loss')\n",
    "    plt.show()\n",
    "    plt.savefig(os.path.join(\"out\", 'training_history.png'), format='png', dpi=100)"
   ]
  },
  {
   "cell_type": "code",
   "execution_count": 138,
   "metadata": {},
   "outputs": [
    {
     "name": "stdout",
     "output_type": "stream",
     "text": [
      "[INFO] Loading images: \"data/content_monet_style_monet\" ...\n",
      "[INFO] Loading images: \"data/content_cezanne_style_cezanne\" ...\n",
      "[INFO] Loading images: \"data/content_cezanne_style_monet\" ...\n",
      "[INFO] Loading images: \"data/content_monet_style_cezanne\" ...\n"
     ]
    }
   ],
   "source": [
    "X = []\n",
    "y = []\n",
    "\n",
    "for i in [\"content_monet_style_monet\", \"content_cezanne_style_cezanne\", \"content_cezanne_style_monet\", \"content_monet_style_cezanne\"]:\n",
    "    X_new, y_new = read_data(os.path.join(\"data\", f\"{i}\"))\n",
    "    \n",
    "    X.extend(X_new)\n",
    "    y.extend(y_new)"
   ]
  },
  {
   "cell_type": "code",
   "execution_count": 139,
   "metadata": {},
   "outputs": [
    {
     "name": "stdout",
     "output_type": "stream",
     "text": [
      "[INFO] Resizing images ...\n"
     ]
    }
   ],
   "source": [
    "# Resize arrays to fit input dimensions\n",
    "X = get_resized_arrays(X, 224, 224)"
   ]
  },
  {
   "cell_type": "code",
   "execution_count": 140,
   "metadata": {},
   "outputs": [
    {
     "name": "stdout",
     "output_type": "stream",
     "text": [
      "<class 'list'> 1989 <class 'numpy.ndarray'> (224, 224, 3)\n",
      "<class 'list'> 1989 <class 'str'> content_monet_style_monet\n"
     ]
    },
    {
     "data": {
      "text/plain": [
       "{'content_cezanne_style_cezanne',\n",
       " 'content_cezanne_style_monet',\n",
       " 'content_monet_style_cezanne',\n",
       " 'content_monet_style_monet'}"
      ]
     },
     "execution_count": 140,
     "metadata": {},
     "output_type": "execute_result"
    }
   ],
   "source": [
    "print(type(X), len(X), type(X[0]), X[0].shape)\n",
    "print(type(y), len(y), type(y[0]), y[0])\n",
    "set(y)"
   ]
  },
  {
   "cell_type": "code",
   "execution_count": 141,
   "metadata": {},
   "outputs": [],
   "source": [
    "# Create dataframe with labels and arrays\n",
    "df = pd.DataFrame.from_dict({\"X\" : X, \"y\" : y})"
   ]
  },
  {
   "cell_type": "code",
   "execution_count": 142,
   "metadata": {},
   "outputs": [],
   "source": [
    "# Create dataframe with subset\n",
    "df_orig = df.loc[(df['y'] == \"content_monet_style_monet\") | (df['y'] == \"content_cezanne_style_cezanne\")]"
   ]
  },
  {
   "cell_type": "code",
   "execution_count": 179,
   "metadata": {},
   "outputs": [],
   "source": [
    "# Define X and y,\n",
    "X = list(df_orig[\"X\"])\n",
    "y = list(df_orig[\"y\"])"
   ]
  },
  {
   "cell_type": "code",
   "execution_count": 180,
   "metadata": {},
   "outputs": [
    {
     "data": {
      "text/plain": [
       "{'content_cezanne_style_cezanne', 'content_monet_style_monet'}"
      ]
     },
     "execution_count": 180,
     "metadata": {},
     "output_type": "execute_result"
    }
   ],
   "source": [
    "#Get labelnames\n",
    "label_names = set(y)\n",
    "label_names"
   ]
  },
  {
   "cell_type": "code",
   "execution_count": 181,
   "metadata": {},
   "outputs": [],
   "source": [
    "# Right format for X\n",
    "X = np.array(X).reshape(len(X), width, height, 3)"
   ]
  },
  {
   "cell_type": "code",
   "execution_count": 182,
   "metadata": {},
   "outputs": [],
   "source": [
    "# Right format for y\n",
    "lb = LabelEncoder()\n",
    "y = lb.fit_transform(y)\n",
    "y = y.reshape(-1,1)\n",
    "enc = OneHotEncoder()\n",
    "y = enc.fit_transform(y).toarray()"
   ]
  },
  {
   "cell_type": "code",
   "execution_count": 147,
   "metadata": {},
   "outputs": [],
   "source": [
    "# Make a test-train split\n",
    "X_train, X_test, y_train, y_test = train_test_split(X, \n",
    "                                                    y, \n",
    "                                                    random_state = 9, # for replication purposes\n",
    "                                                    train_size = .8)"
   ]
  },
  {
   "cell_type": "code",
   "execution_count": 148,
   "metadata": {},
   "outputs": [
    {
     "name": "stdout",
     "output_type": "stream",
     "text": [
      "<class 'numpy.ndarray'> 796 <class 'numpy.ndarray'> (224, 224, 3)\n",
      "<class 'numpy.ndarray'> <class 'numpy.ndarray'> [1. 0.]\n"
     ]
    }
   ],
   "source": [
    "print(type(X_train), len(X_train), type(X_train[0]), X_train[0].shape)\n",
    "print(type(y_train), type(y_train[0]), y_train[0])"
   ]
  },
  {
   "cell_type": "code",
   "execution_count": 149,
   "metadata": {},
   "outputs": [
    {
     "name": "stdout",
     "output_type": "stream",
     "text": [
      "<class 'numpy.ndarray'> 796 <class 'numpy.ndarray'> (224, 224, 3)\n",
      "<class 'numpy.ndarray'> 796 <class 'numpy.ndarray'> [1. 0.]\n"
     ]
    }
   ],
   "source": [
    "print(type(X_train), len(X_train), type(X_train[0]), X_train[0].shape)\n",
    "print(type(y_train), len(y_train), type(y_train[0]), y_train[0])"
   ]
  },
  {
   "cell_type": "code",
   "execution_count": 150,
   "metadata": {},
   "outputs": [
    {
     "name": "stdout",
     "output_type": "stream",
     "text": [
      "Epoch 1/5\n",
      "25/25 [==============================] - 10s 311ms/step - loss: 0.7328 - accuracy: 0.5653 - val_loss: 0.3968 - val_accuracy: 0.8693\n",
      "Epoch 2/5\n",
      "25/25 [==============================] - 7s 288ms/step - loss: 0.3774 - accuracy: 0.8703 - val_loss: 0.2850 - val_accuracy: 0.9095\n",
      "Epoch 3/5\n",
      "25/25 [==============================] - 7s 272ms/step - loss: 0.2862 - accuracy: 0.8998 - val_loss: 0.2552 - val_accuracy: 0.9196\n",
      "Epoch 4/5\n",
      "25/25 [==============================] - 7s 263ms/step - loss: 0.2786 - accuracy: 0.8979 - val_loss: 0.2165 - val_accuracy: 0.9397\n",
      "Epoch 5/5\n",
      "25/25 [==============================] - 7s 263ms/step - loss: 0.2288 - accuracy: 0.9309 - val_loss: 0.2014 - val_accuracy: 0.9397\n"
     ]
    }
   ],
   "source": [
    "history = model.fit(X_train, y_train, \n",
    "              validation_data=(X_test, y_test), \n",
    "              batch_size = 32,\n",
    "              epochs = 5)"
   ]
  },
  {
   "cell_type": "code",
   "execution_count": 151,
   "metadata": {},
   "outputs": [
    {
     "data": {
      "image/png": "[encoded data removed]",
      "text/plain": [
       "<Figure size 1080x1080 with 2 Axes>"
      ]
     },
     "metadata": {
      "needs_background": "light"
     },
     "output_type": "display_data"
    },
    {
     "data": {
      "text/plain": [
       "<Figure size 432x288 with 0 Axes>"
      ]
     },
     "metadata": {},
     "output_type": "display_data"
    }
   ],
   "source": [
    "plot_history(history, 5)"
   ]
  },
  {
   "cell_type": "code",
   "execution_count": 152,
   "metadata": {},
   "outputs": [],
   "source": [
    "predictions = model.predict(X_test,\n",
    "         batch_size = 32)"
   ]
  },
  {
   "cell_type": "code",
   "execution_count": 153,
   "metadata": {},
   "outputs": [
    {
     "data": {
      "text/plain": [
       "array([0.88457495, 0.11542513], dtype=float32)"
      ]
     },
     "execution_count": 153,
     "metadata": {},
     "output_type": "execute_result"
    }
   ],
   "source": [
    "predictions[0]"
   ]
  },
  {
   "cell_type": "code",
   "execution_count": 154,
   "metadata": {},
   "outputs": [],
   "source": [
    "classif_report = pd.DataFrame(classification_report(y_test.argmax(axis=1),\n",
    "                                predictions.argmax(axis=1),\n",
    "                                target_names = label_names, output_dict = True))"
   ]
  },
  {
   "cell_type": "code",
   "execution_count": 155,
   "metadata": {},
   "outputs": [
    {
     "data": {
      "text/html": [
       "<div>\n",
       "<style scoped>\n",
       "    .dataframe tbody tr th:only-of-type {\n",
       "        vertical-align: middle;\n",
       "    }\n",
       "\n",
       "    .dataframe tbody tr th {\n",
       "        vertical-align: top;\n",
       "    }\n",
       "\n",
       "    .dataframe thead th {\n",
       "        text-align: right;\n",
       "    }\n",
       "</style>\n",
       "<table border=\"1\" class=\"dataframe\">\n",
       "  <thead>\n",
       "    <tr style=\"text-align: right;\">\n",
       "      <th></th>\n",
       "      <th>content_monet_style_monet</th>\n",
       "      <th>content_cezanne_style_cezanne</th>\n",
       "      <th>accuracy</th>\n",
       "      <th>macro avg</th>\n",
       "      <th>weighted avg</th>\n",
       "    </tr>\n",
       "  </thead>\n",
       "  <tbody>\n",
       "    <tr>\n",
       "      <th>precision</th>\n",
       "      <td>0.932039</td>\n",
       "      <td>0.947917</td>\n",
       "      <td>0.939698</td>\n",
       "      <td>0.939978</td>\n",
       "      <td>0.939858</td>\n",
       "    </tr>\n",
       "    <tr>\n",
       "      <th>recall</th>\n",
       "      <td>0.950495</td>\n",
       "      <td>0.928571</td>\n",
       "      <td>0.939698</td>\n",
       "      <td>0.939533</td>\n",
       "      <td>0.939698</td>\n",
       "    </tr>\n",
       "    <tr>\n",
       "      <th>f1-score</th>\n",
       "      <td>0.941176</td>\n",
       "      <td>0.938144</td>\n",
       "      <td>0.939698</td>\n",
       "      <td>0.939660</td>\n",
       "      <td>0.939683</td>\n",
       "    </tr>\n",
       "    <tr>\n",
       "      <th>support</th>\n",
       "      <td>101.000000</td>\n",
       "      <td>98.000000</td>\n",
       "      <td>0.939698</td>\n",
       "      <td>199.000000</td>\n",
       "      <td>199.000000</td>\n",
       "    </tr>\n",
       "  </tbody>\n",
       "</table>\n",
       "</div>"
      ],
      "text/plain": [
       "           content_monet_style_monet  content_cezanne_style_cezanne  accuracy  \\\n",
       "precision                   0.932039                       0.947917  0.939698   \n",
       "recall                      0.950495                       0.928571  0.939698   \n",
       "f1-score                    0.941176                       0.938144  0.939698   \n",
       "support                   101.000000                      98.000000  0.939698   \n",
       "\n",
       "            macro avg  weighted avg  \n",
       "precision    0.939978      0.939858  \n",
       "recall       0.939533      0.939698  \n",
       "f1-score     0.939660      0.939683  \n",
       "support    199.000000    199.000000  "
      ]
     },
     "execution_count": 155,
     "metadata": {},
     "output_type": "execute_result"
    }
   ],
   "source": [
    "classif_report"
   ]
  },
  {
   "cell_type": "code",
   "execution_count": 198,
   "metadata": {},
   "outputs": [],
   "source": [
    "content_monet_style_cezanne = df.loc[(df['y'] == \"content_monet_style_cezanne\")]"
   ]
  },
  {
   "cell_type": "code",
   "execution_count": 199,
   "metadata": {},
   "outputs": [],
   "source": [
    "X = list(content_monet_style_cezanne[\"X\"])\n",
    "y = list(content_monet_style_cezanne[\"y\"])"
   ]
  },
  {
   "cell_type": "code",
   "execution_count": 200,
   "metadata": {},
   "outputs": [],
   "source": [
    "# Right format for X\n",
    "X_test = np.array(X).reshape(len(X), width, height, 3)\n",
    "# Right format for y\n",
    "lb = LabelEncoder()\n",
    "y = lb.fit_transform(y)\n",
    "y = y.reshape(-1,1)\n",
    "y_test = enc.transform(y).toarray()"
   ]
  },
  {
   "cell_type": "code",
   "execution_count": 201,
   "metadata": {},
   "outputs": [],
   "source": [
    "predictions = model.predict(X_test,\n",
    "         batch_size = 32)"
   ]
  },
  {
   "cell_type": "code",
   "execution_count": 202,
   "metadata": {},
   "outputs": [
    {
     "data": {
      "text/plain": [
       "array([9.9936634e-01, 6.3362799e-04], dtype=float32)"
      ]
     },
     "execution_count": 202,
     "metadata": {},
     "output_type": "execute_result"
    }
   ],
   "source": [
    "predictions[0]"
   ]
  },
  {
   "cell_type": "code",
   "execution_count": 203,
   "metadata": {},
   "outputs": [
    {
     "name": "stderr",
     "output_type": "stream",
     "text": [
      "/usr/local/lib/python3.6/dist-packages/sklearn/metrics/_classification.py:1245: UndefinedMetricWarning: Recall and F-score are ill-defined and being set to 0.0 in labels with no true samples. Use `zero_division` parameter to control this behavior.\n",
      "  _warn_prf(average, modifier, msg_start, len(result))\n",
      "/usr/local/lib/python3.6/dist-packages/sklearn/metrics/_classification.py:1245: UndefinedMetricWarning: Recall and F-score are ill-defined and being set to 0.0 in labels with no true samples. Use `zero_division` parameter to control this behavior.\n",
      "  _warn_prf(average, modifier, msg_start, len(result))\n",
      "/usr/local/lib/python3.6/dist-packages/sklearn/metrics/_classification.py:1245: UndefinedMetricWarning: Recall and F-score are ill-defined and being set to 0.0 in labels with no true samples. Use `zero_division` parameter to control this behavior.\n",
      "  _warn_prf(average, modifier, msg_start, len(result))\n"
     ]
    }
   ],
   "source": [
    "classif_report = pd.DataFrame(classification_report(y_test.argmax(axis=1),\n",
    "                                predictions.argmax(axis=1),\n",
    "                                target_names = label_names, output_dict = True))"
   ]
  },
  {
   "cell_type": "code",
   "execution_count": 204,
   "metadata": {},
   "outputs": [
    {
     "data": {
      "text/html": [
       "<div>\n",
       "<style scoped>\n",
       "    .dataframe tbody tr th:only-of-type {\n",
       "        vertical-align: middle;\n",
       "    }\n",
       "\n",
       "    .dataframe tbody tr th {\n",
       "        vertical-align: top;\n",
       "    }\n",
       "\n",
       "    .dataframe thead th {\n",
       "        text-align: right;\n",
       "    }\n",
       "</style>\n",
       "<table border=\"1\" class=\"dataframe\">\n",
       "  <thead>\n",
       "    <tr style=\"text-align: right;\">\n",
       "      <th></th>\n",
       "      <th>content_monet_style_monet</th>\n",
       "      <th>content_cezanne_style_cezanne</th>\n",
       "      <th>accuracy</th>\n",
       "      <th>macro avg</th>\n",
       "      <th>weighted avg</th>\n",
       "    </tr>\n",
       "  </thead>\n",
       "  <tbody>\n",
       "    <tr>\n",
       "      <th>precision</th>\n",
       "      <td>1.000000</td>\n",
       "      <td>0.0</td>\n",
       "      <td>0.690141</td>\n",
       "      <td>0.500000</td>\n",
       "      <td>1.000000</td>\n",
       "    </tr>\n",
       "    <tr>\n",
       "      <th>recall</th>\n",
       "      <td>0.690141</td>\n",
       "      <td>0.0</td>\n",
       "      <td>0.690141</td>\n",
       "      <td>0.345070</td>\n",
       "      <td>0.690141</td>\n",
       "    </tr>\n",
       "    <tr>\n",
       "      <th>f1-score</th>\n",
       "      <td>0.816667</td>\n",
       "      <td>0.0</td>\n",
       "      <td>0.690141</td>\n",
       "      <td>0.408333</td>\n",
       "      <td>0.816667</td>\n",
       "    </tr>\n",
       "    <tr>\n",
       "      <th>support</th>\n",
       "      <td>497.000000</td>\n",
       "      <td>0.0</td>\n",
       "      <td>0.690141</td>\n",
       "      <td>497.000000</td>\n",
       "      <td>497.000000</td>\n",
       "    </tr>\n",
       "  </tbody>\n",
       "</table>\n",
       "</div>"
      ],
      "text/plain": [
       "           content_monet_style_monet  content_cezanne_style_cezanne  accuracy  \\\n",
       "precision                   1.000000                            0.0  0.690141   \n",
       "recall                      0.690141                            0.0  0.690141   \n",
       "f1-score                    0.816667                            0.0  0.690141   \n",
       "support                   497.000000                            0.0  0.690141   \n",
       "\n",
       "            macro avg  weighted avg  \n",
       "precision    0.500000      1.000000  \n",
       "recall       0.345070      0.690141  \n",
       "f1-score     0.408333      0.816667  \n",
       "support    497.000000    497.000000  "
      ]
     },
     "execution_count": 204,
     "metadata": {},
     "output_type": "execute_result"
    }
   ],
   "source": [
    "classif_report"
   ]
  },
  {
   "cell_type": "code",
   "execution_count": 205,
   "metadata": {},
   "outputs": [
    {
     "name": "stderr",
     "output_type": "stream",
     "text": [
      "/usr/local/lib/python3.6/dist-packages/pandas/core/missing.py:49: FutureWarning: elementwise comparison failed; returning scalar instead, but in the future will perform elementwise comparison\n",
      "  mask = arr == x\n"
     ]
    }
   ],
   "source": [
    "df_stylized = df.loc[(df['y'] == \"content_monet_style_cezanne\") | (df['y'] == \"content_cezanne_style_monet\")]\n",
    "df_stylized = df_styliz.replace(['content_monet_style_cezanne'],'content_monet_style_monet')\n",
    "df_stylized = df_styliz.replace(['content_cezanne_style_monet'],'content_cezanne_style_cezanne')"
   ]
  },
  {
   "cell_type": "code",
   "execution_count": 206,
   "metadata": {},
   "outputs": [],
   "source": [
    "X = list(df_stylized[\"X\"])\n",
    "y = list(df_stylized[\"y\"])"
   ]
  },
  {
   "cell_type": "code",
   "execution_count": 207,
   "metadata": {},
   "outputs": [],
   "source": [
    "# Right format for X\n",
    "X_test = np.array(X).reshape(len(X), width, height, 3)\n",
    "# Right format for y\n",
    "lb = LabelEncoder()\n",
    "y = lb.fit_transform(y)\n",
    "y = y.reshape(-1,1)\n",
    "y_test = enc.transform(y).toarray()"
   ]
  },
  {
   "cell_type": "code",
   "execution_count": 208,
   "metadata": {},
   "outputs": [],
   "source": [
    "predictions = model.predict(X_test,\n",
    "         batch_size = 32)"
   ]
  },
  {
   "cell_type": "code",
   "execution_count": 209,
   "metadata": {},
   "outputs": [
    {
     "data": {
      "text/plain": [
       "array([0.47369775, 0.5263022 ], dtype=float32)"
      ]
     },
     "execution_count": 209,
     "metadata": {},
     "output_type": "execute_result"
    }
   ],
   "source": [
    "predictions[0]"
   ]
  },
  {
   "cell_type": "code",
   "execution_count": 210,
   "metadata": {},
   "outputs": [],
   "source": [
    "classif_report = pd.DataFrame(classification_report(y_test.argmax(axis=1),\n",
    "                                predictions.argmax(axis=1),\n",
    "                                target_names = label_names, output_dict = True))"
   ]
  },
  {
   "cell_type": "code",
   "execution_count": 211,
   "metadata": {
    "scrolled": true
   },
   "outputs": [
    {
     "data": {
      "text/html": [
       "<div>\n",
       "<style scoped>\n",
       "    .dataframe tbody tr th:only-of-type {\n",
       "        vertical-align: middle;\n",
       "    }\n",
       "\n",
       "    .dataframe tbody tr th {\n",
       "        vertical-align: top;\n",
       "    }\n",
       "\n",
       "    .dataframe thead th {\n",
       "        text-align: right;\n",
       "    }\n",
       "</style>\n",
       "<table border=\"1\" class=\"dataframe\">\n",
       "  <thead>\n",
       "    <tr style=\"text-align: right;\">\n",
       "      <th></th>\n",
       "      <th>content_monet_style_monet</th>\n",
       "      <th>content_cezanne_style_cezanne</th>\n",
       "      <th>accuracy</th>\n",
       "      <th>macro avg</th>\n",
       "      <th>weighted avg</th>\n",
       "    </tr>\n",
       "  </thead>\n",
       "  <tbody>\n",
       "    <tr>\n",
       "      <th>precision</th>\n",
       "      <td>0.227477</td>\n",
       "      <td>0.280000</td>\n",
       "      <td>0.256539</td>\n",
       "      <td>0.253739</td>\n",
       "      <td>0.253739</td>\n",
       "    </tr>\n",
       "    <tr>\n",
       "      <th>recall</th>\n",
       "      <td>0.203219</td>\n",
       "      <td>0.309859</td>\n",
       "      <td>0.256539</td>\n",
       "      <td>0.256539</td>\n",
       "      <td>0.256539</td>\n",
       "    </tr>\n",
       "    <tr>\n",
       "      <th>f1-score</th>\n",
       "      <td>0.214665</td>\n",
       "      <td>0.294174</td>\n",
       "      <td>0.256539</td>\n",
       "      <td>0.254420</td>\n",
       "      <td>0.254420</td>\n",
       "    </tr>\n",
       "    <tr>\n",
       "      <th>support</th>\n",
       "      <td>497.000000</td>\n",
       "      <td>497.000000</td>\n",
       "      <td>0.256539</td>\n",
       "      <td>994.000000</td>\n",
       "      <td>994.000000</td>\n",
       "    </tr>\n",
       "  </tbody>\n",
       "</table>\n",
       "</div>"
      ],
      "text/plain": [
       "           content_monet_style_monet  content_cezanne_style_cezanne  accuracy  \\\n",
       "precision                   0.227477                       0.280000  0.256539   \n",
       "recall                      0.203219                       0.309859  0.256539   \n",
       "f1-score                    0.214665                       0.294174  0.256539   \n",
       "support                   497.000000                     497.000000  0.256539   \n",
       "\n",
       "            macro avg  weighted avg  \n",
       "precision    0.253739      0.253739  \n",
       "recall       0.256539      0.256539  \n",
       "f1-score     0.254420      0.254420  \n",
       "support    994.000000    994.000000  "
      ]
     },
     "execution_count": 211,
     "metadata": {},
     "output_type": "execute_result"
    }
   ],
   "source": [
    "classif_report"
   ]
  }
 ],
 "metadata": {
  "kernelspec": {
   "display_name": "cv101",
   "language": "python",
   "name": "cv101"
  },
  "language_info": {
   "codemirror_mode": {
    "name": "ipython",
    "version": 3
   },
   "file_extension": ".py",
   "mimetype": "text/x-python",
   "name": "python",
   "nbconvert_exporter": "python",
   "pygments_lexer": "ipython3",
   "version": "3.6.9"
  }
 },
 "nbformat": 4,
 "nbformat_minor": 4
}
