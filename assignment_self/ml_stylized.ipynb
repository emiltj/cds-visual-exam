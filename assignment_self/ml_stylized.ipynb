{
 "cells": [
  {
   "cell_type": "code",
   "execution_count": 346,
   "metadata": {},
   "outputs": [],
   "source": [
    "#!/usr/bin/env python\n",
    "\n",
    "# data tools\n",
    "import os, cv2, glob, argparse\n",
    "import numpy as np\n",
    "import matplotlib.pyplot as plt\n",
    "import pandas as pd\n",
    "\n",
    "# sklearn tools\n",
    "from sklearn.preprocessing import LabelBinarizer\n",
    "from sklearn.preprocessing import LabelEncoder\n",
    "from sklearn.metrics import classification_report\n",
    "from sklearn.model_selection import train_test_split\n",
    "from sklearn.preprocessing import MinMaxScaler\n",
    "from sklearn.preprocessing import OneHotEncoder\n",
    "\n",
    "# tf tools\n",
    "import tensorflow as tf\n",
    "from tensorflow.keras.datasets import cifar10\n",
    "from tensorflow.keras.models import Sequential\n",
    "from tensorflow.keras.models import Model\n",
    "from tensorflow.keras.utils import plot_model\n",
    "from tensorflow.keras.optimizers import SGD, Adam\n",
    "from tensorflow.keras import backend as K\n",
    "from tensorflow.keras.layers import (Conv2D,\n",
    "                                     MaxPool2D,\n",
    "                                     MaxPooling2D, \n",
    "                                     Activation, \n",
    "                                     Flatten,\n",
    "                                     Dropout,\n",
    "                                     Dense)\n",
    "from tensorflow.keras.preprocessing.image import (load_img,\n",
    "                                                  img_to_array,\n",
    "                                                  ImageDataGenerator)\n",
    "from tensorflow.keras.applications.vgg16 import (preprocess_input,\n",
    "                                                 decode_predictions,\n",
    "                                                 VGG16)"
   ]
  },
  {
   "cell_type": "markdown",
   "metadata": {},
   "source": [
    "# Define model"
   ]
  },
  {
   "cell_type": "code",
   "execution_count": 347,
   "metadata": {},
   "outputs": [],
   "source": [
    "base_model = tf.keras.applications.MobileNetV2(input_shape = (224, 224, 3), include_top = False, weights = \"imagenet\")\n",
    "base_model.trainable = False\n",
    "model = tf.keras.Sequential([base_model,\n",
    "                                 tf.keras.layers.GlobalAveragePooling2D(),\n",
    "                                 tf.keras.layers.Dropout(0.2),\n",
    "                                 tf.keras.layers.Dense(2, activation=\"softmax\")])\n",
    "\n",
    "base_learning_rate = 0.001\n",
    "model.compile(optimizer=tf.keras.optimizers.Adam(lr=base_learning_rate),\n",
    "              loss=tf.keras.losses.BinaryCrossentropy(from_logits=True),\n",
    "              metrics=['accuracy'])"
   ]
  },
  {
   "cell_type": "markdown",
   "metadata": {},
   "source": [
    "# Define functions"
   ]
  },
  {
   "cell_type": "code",
   "execution_count": 374,
   "metadata": {},
   "outputs": [],
   "source": [
    "height = 224\n",
    "width = 224\n",
    "\n",
    "def read_from_folders(folders):\n",
    "    arrays = []\n",
    "    labels = []\n",
    "    \n",
    "    for folder in folders:\n",
    "        \n",
    "        folderpath = os.path.join(\"data\", folder)\n",
    "        \n",
    "        print(f\"[INFO] Loading images from: \\\"{folderpath}\\\" ...\") # Info for terminal\n",
    "        \n",
    "        for file in glob.glob(os.path.join(folderpath, \"*.jpg\")):\n",
    "            arrays.append(cv2.imread(file))\n",
    "            labels.append(f\"{os.path.split(folderpath)[1]}\")\n",
    "    \n",
    "    # Create dataframe from labels and arrays\n",
    "    df = pd.DataFrame.from_dict({\"X\" : arrays, \"y\" : labels})\n",
    "    \n",
    "    return df\n",
    "\n",
    "# Define function for resizing and making into array\n",
    "def get_resized_arrays(arrays, width, height):\n",
    "    # Info for terminal use\n",
    "    print(\"[INFO] Resizing images ...\")\n",
    "    \n",
    "    # If pd.series, convert to list\n",
    "    if type(arrays) == \"pandas.core.series.Series\":\n",
    "        arrays = list(arrays)\n",
    "    \n",
    "    # Empty list for appending to\n",
    "    arrays_resized = []\n",
    "    \n",
    "    # For every array in the list of arrays\n",
    "    for array in arrays:\n",
    "        # Resize array\n",
    "        resized = cv2.resize(array, (width, height), interpolation = cv2.INTER_AREA)\n",
    "        \n",
    "        # Convert to array and values between 0 and 1 to allow to be used in CNN (using list comprehension)\n",
    "        resized = np.asarray(resized/255.).astype(\"float32\")\n",
    "\n",
    "        # Append to list\n",
    "        arrays_resized.append(resized)\n",
    "\n",
    "    # Return\n",
    "    return arrays_resized\n",
    "\n",
    "def get_formatted(X, y):\n",
    "    # Format X\n",
    "    X = np.array(X).reshape(len(X), width, height, 3)\n",
    "    \n",
    "    # Format y\n",
    "    lb, enc = LabelEncoder(), OneHotEncoder()\n",
    "    y = lb.fit_transform(y).reshape(-1,1)\n",
    "    y = enc.fit_transform(y).toarray()\n",
    "    \n",
    "    return X, y\n",
    "\n",
    "def plot_history(H, epochs):\n",
    "    \"\"\"\n",
    "    Function which plots accuracy and loss over epochs\n",
    "    \"\"\"\n",
    "    # Make a list of epochs\n",
    "    epochs_range = range(epochs)\n",
    "    \n",
    "    # Create a plot showing accuracies\n",
    "    plt.figure(figsize = (15, 15))\n",
    "    plt.subplot(2, 2, 1)\n",
    "    plt.plot(epochs_range, H.history['accuracy'], label='Training accuracy')\n",
    "    plt.plot(epochs_range, H.history['val_accuracy'], label='Validation accuracy')\n",
    "    plt.legend(loc = 'lower right')\n",
    "    plt.title('Training and Validation Accuracy')\n",
    "\n",
    "    # Create a plot showing loss\n",
    "    plt.subplot(2, 2, 2)\n",
    "    plt.plot(epochs_range, H.history['loss'], label='Training loss')\n",
    "    plt.plot(epochs_range, H.history['val_loss'], label='Validation loss')\n",
    "    plt.legend(loc = 'upper right')\n",
    "    plt.title('Training and Validation Loss')\n",
    "    plt.show()\n",
    "    plt.savefig(os.path.join(\"out\", 'training_history.png'), format='png', dpi=100)"
   ]
  },
  {
   "cell_type": "code",
   "execution_count": 365,
   "metadata": {
    "scrolled": true
   },
   "outputs": [
    {
     "name": "stdout",
     "output_type": "stream",
     "text": [
      "[INFO] Loading images from: \"data/content_monet_style_cezanne\" ...\n",
      "[INFO] Loading images from: \"data/content_monet_style_monet\" ...\n",
      "[INFO] Loading images from: \"data/content_cezanne_style_monet\" ...\n",
      "[INFO] Loading images from: \"data/content_cezanne_style_cezanne\" ...\n",
      "[INFO] Resizing images ...\n"
     ]
    }
   ],
   "source": [
    "folders = os.listdir(\"data\")\n",
    "df = read_from_folders(folders)\n",
    "df[\"X\"] = get_resized_arrays(df[\"X\"], 224, 224)"
   ]
  },
  {
   "cell_type": "markdown",
   "metadata": {},
   "source": [
    "# Train Monet/Cezanne classifier"
   ]
  },
  {
   "cell_type": "code",
   "execution_count": 375,
   "metadata": {},
   "outputs": [],
   "source": [
    "# Create dataframe with subset\n",
    "df_orig = df.loc[(df['y'] == \"content_monet_style_monet\") | (df['y'] == \"content_cezanne_style_cezanne\")]"
   ]
  },
  {
   "cell_type": "code",
   "execution_count": 376,
   "metadata": {},
   "outputs": [],
   "source": [
    "# Define X and y\n",
    "X = list(df_orig[\"X\"])\n",
    "y = list(df_orig[\"y\"])"
   ]
  },
  {
   "cell_type": "code",
   "execution_count": 377,
   "metadata": {},
   "outputs": [],
   "source": [
    "#Get labelnames\n",
    "label_names = set(y)"
   ]
  },
  {
   "cell_type": "code",
   "execution_count": 378,
   "metadata": {},
   "outputs": [],
   "source": [
    "# Format to match expected input for CNN\n",
    "X, y = get_formatted(X, y)"
   ]
  },
  {
   "cell_type": "code",
   "execution_count": 372,
   "metadata": {},
   "outputs": [],
   "source": [
    "# Make a test-train split\n",
    "X_train, X_test, y_train, y_test = train_test_split(X, \n",
    "                                                    y, \n",
    "                                                    random_state = 9, # for replication purposes\n",
    "                                                    train_size = .8)"
   ]
  },
  {
   "cell_type": "code",
   "execution_count": 373,
   "metadata": {},
   "outputs": [
    {
     "name": "stdout",
     "output_type": "stream",
     "text": [
      "Epoch 1/5\n",
      "25/25 [==============================] - 7s 292ms/step - loss: 0.1922 - accuracy: 0.9334 - val_loss: 0.1724 - val_accuracy: 0.9497\n",
      "Epoch 2/5\n",
      "25/25 [==============================] - 7s 284ms/step - loss: 0.1733 - accuracy: 0.9447 - val_loss: 0.1745 - val_accuracy: 0.9397\n",
      "Epoch 3/5\n",
      "25/25 [==============================] - 7s 289ms/step - loss: 0.1615 - accuracy: 0.9510 - val_loss: 0.1629 - val_accuracy: 0.9397\n",
      "Epoch 4/5\n",
      "25/25 [==============================] - 7s 280ms/step - loss: 0.1532 - accuracy: 0.9510 - val_loss: 0.1584 - val_accuracy: 0.9397\n",
      "Epoch 5/5\n",
      "25/25 [==============================] - 7s 276ms/step - loss: 0.1497 - accuracy: 0.9472 - val_loss: 0.1637 - val_accuracy: 0.9397\n"
     ]
    }
   ],
   "source": [
    "history = model.fit(X_train, y_train, \n",
    "              validation_data=(X_test, y_test), \n",
    "              batch_size = 32,\n",
    "              epochs = 5)"
   ]
  },
  {
   "cell_type": "code",
   "execution_count": 389,
   "metadata": {},
   "outputs": [
    {
     "data": {
      "image/png": "[encoded data removed]",
      "text/plain": [
       "<Figure size 1080x1080 with 2 Axes>"
      ]
     },
     "metadata": {
      "needs_background": "light"
     },
     "output_type": "display_data"
    },
    {
     "data": {
      "text/plain": [
       "<Figure size 432x288 with 0 Axes>"
      ]
     },
     "metadata": {},
     "output_type": "display_data"
    }
   ],
   "source": [
    "plot_history(history, 5)"
   ]
  },
  {
   "cell_type": "markdown",
   "metadata": {},
   "source": [
    "# Test Monet/Cezanne classifier"
   ]
  },
  {
   "cell_type": "code",
   "execution_count": 286,
   "metadata": {},
   "outputs": [],
   "source": [
    "predictions = model.predict(X_test,\n",
    "         batch_size = 32)"
   ]
  },
  {
   "cell_type": "code",
   "execution_count": 287,
   "metadata": {},
   "outputs": [],
   "source": [
    "classif_report = pd.DataFrame(classification_report(y_test.argmax(axis=1),\n",
    "                                predictions.argmax(axis=1),\n",
    "                                target_names = label_names, output_dict = True))"
   ]
  },
  {
   "cell_type": "code",
   "execution_count": 288,
   "metadata": {},
   "outputs": [
    {
     "data": {
      "text/html": [
       "<div>\n",
       "<style scoped>\n",
       "    .dataframe tbody tr th:only-of-type {\n",
       "        vertical-align: middle;\n",
       "    }\n",
       "\n",
       "    .dataframe tbody tr th {\n",
       "        vertical-align: top;\n",
       "    }\n",
       "\n",
       "    .dataframe thead th {\n",
       "        text-align: right;\n",
       "    }\n",
       "</style>\n",
       "<table border=\"1\" class=\"dataframe\">\n",
       "  <thead>\n",
       "    <tr style=\"text-align: right;\">\n",
       "      <th></th>\n",
       "      <th>content_monet_style_monet</th>\n",
       "      <th>content_cezanne_style_cezanne</th>\n",
       "      <th>accuracy</th>\n",
       "      <th>macro avg</th>\n",
       "      <th>weighted avg</th>\n",
       "    </tr>\n",
       "  </thead>\n",
       "  <tbody>\n",
       "    <tr>\n",
       "      <th>precision</th>\n",
       "      <td>0.917431</td>\n",
       "      <td>0.988889</td>\n",
       "      <td>0.949749</td>\n",
       "      <td>0.953160</td>\n",
       "      <td>0.952621</td>\n",
       "    </tr>\n",
       "    <tr>\n",
       "      <th>recall</th>\n",
       "      <td>0.990099</td>\n",
       "      <td>0.908163</td>\n",
       "      <td>0.949749</td>\n",
       "      <td>0.949131</td>\n",
       "      <td>0.949749</td>\n",
       "    </tr>\n",
       "    <tr>\n",
       "      <th>f1-score</th>\n",
       "      <td>0.952381</td>\n",
       "      <td>0.946809</td>\n",
       "      <td>0.949749</td>\n",
       "      <td>0.949595</td>\n",
       "      <td>0.949637</td>\n",
       "    </tr>\n",
       "    <tr>\n",
       "      <th>support</th>\n",
       "      <td>101.000000</td>\n",
       "      <td>98.000000</td>\n",
       "      <td>0.949749</td>\n",
       "      <td>199.000000</td>\n",
       "      <td>199.000000</td>\n",
       "    </tr>\n",
       "  </tbody>\n",
       "</table>\n",
       "</div>"
      ],
      "text/plain": [
       "           content_monet_style_monet  content_cezanne_style_cezanne  accuracy  \\\n",
       "precision                   0.917431                       0.988889  0.949749   \n",
       "recall                      0.990099                       0.908163  0.949749   \n",
       "f1-score                    0.952381                       0.946809  0.949749   \n",
       "support                   101.000000                      98.000000  0.949749   \n",
       "\n",
       "            macro avg  weighted avg  \n",
       "precision    0.953160      0.952621  \n",
       "recall       0.949131      0.949749  \n",
       "f1-score     0.949595      0.949637  \n",
       "support    199.000000    199.000000  "
      ]
     },
     "execution_count": 288,
     "metadata": {},
     "output_type": "execute_result"
    }
   ],
   "source": [
    "classif_report"
   ]
  },
  {
   "cell_type": "code",
   "execution_count": null,
   "metadata": {},
   "outputs": [],
   "source": []
  },
  {
   "cell_type": "markdown",
   "metadata": {},
   "source": [
    "# Testing classifier on generated data"
   ]
  },
  {
   "cell_type": "code",
   "execution_count": 383,
   "metadata": {},
   "outputs": [
    {
     "name": "stderr",
     "output_type": "stream",
     "text": [
      "/usr/local/lib/python3.6/dist-packages/pandas/core/missing.py:49: FutureWarning: elementwise comparison failed; returning scalar instead, but in the future will perform elementwise comparison\n",
      "  mask = arr == x\n"
     ]
    }
   ],
   "source": [
    "df_stylized = df.loc[(df['y'] == \"content_monet_style_cezanne\") | (df['y'] == \"content_cezanne_style_monet\")]\n",
    "df_stylized = df_styliz.replace(['content_monet_style_cezanne'],'content_cezanne_style_cezanne')\n",
    "df_stylized = df_styliz.replace(['content_cezanne_style_monet'],'content_monet_style_monet')"
   ]
  },
  {
   "cell_type": "code",
   "execution_count": 384,
   "metadata": {},
   "outputs": [],
   "source": [
    "X = list(df_stylized[\"X\"])\n",
    "y = list(df_stylized[\"y\"])"
   ]
  },
  {
   "cell_type": "code",
   "execution_count": 385,
   "metadata": {},
   "outputs": [],
   "source": [
    "# Format to match expected input for CNN\n",
    "X_test, y_test = get_formatted(X, y)"
   ]
  },
  {
   "cell_type": "code",
   "execution_count": 386,
   "metadata": {},
   "outputs": [],
   "source": [
    "predictions = model.predict(X_test,\n",
    "         batch_size = 32)"
   ]
  },
  {
   "cell_type": "code",
   "execution_count": 387,
   "metadata": {},
   "outputs": [],
   "source": [
    "classif_report = pd.DataFrame(classification_report(y_test.argmax(axis=1),\n",
    "                                predictions.argmax(axis=1),\n",
    "                                target_names = label_names, output_dict = True))"
   ]
  },
  {
   "cell_type": "code",
   "execution_count": 388,
   "metadata": {},
   "outputs": [
    {
     "data": {
      "text/html": [
       "<div>\n",
       "<style scoped>\n",
       "    .dataframe tbody tr th:only-of-type {\n",
       "        vertical-align: middle;\n",
       "    }\n",
       "\n",
       "    .dataframe tbody tr th {\n",
       "        vertical-align: top;\n",
       "    }\n",
       "\n",
       "    .dataframe thead th {\n",
       "        text-align: right;\n",
       "    }\n",
       "</style>\n",
       "<table border=\"1\" class=\"dataframe\">\n",
       "  <thead>\n",
       "    <tr style=\"text-align: right;\">\n",
       "      <th></th>\n",
       "      <th>content_monet_style_monet</th>\n",
       "      <th>content_cezanne_style_cezanne</th>\n",
       "      <th>accuracy</th>\n",
       "      <th>macro avg</th>\n",
       "      <th>weighted avg</th>\n",
       "    </tr>\n",
       "  </thead>\n",
       "  <tbody>\n",
       "    <tr>\n",
       "      <th>precision</th>\n",
       "      <td>0.754902</td>\n",
       "      <td>0.768595</td>\n",
       "      <td>0.761569</td>\n",
       "      <td>0.761749</td>\n",
       "      <td>0.761749</td>\n",
       "    </tr>\n",
       "    <tr>\n",
       "      <th>recall</th>\n",
       "      <td>0.774648</td>\n",
       "      <td>0.748491</td>\n",
       "      <td>0.761569</td>\n",
       "      <td>0.761569</td>\n",
       "      <td>0.761569</td>\n",
       "    </tr>\n",
       "    <tr>\n",
       "      <th>f1-score</th>\n",
       "      <td>0.764647</td>\n",
       "      <td>0.758410</td>\n",
       "      <td>0.761569</td>\n",
       "      <td>0.761529</td>\n",
       "      <td>0.761529</td>\n",
       "    </tr>\n",
       "    <tr>\n",
       "      <th>support</th>\n",
       "      <td>497.000000</td>\n",
       "      <td>497.000000</td>\n",
       "      <td>0.761569</td>\n",
       "      <td>994.000000</td>\n",
       "      <td>994.000000</td>\n",
       "    </tr>\n",
       "  </tbody>\n",
       "</table>\n",
       "</div>"
      ],
      "text/plain": [
       "           content_monet_style_monet  content_cezanne_style_cezanne  accuracy  \\\n",
       "precision                   0.754902                       0.768595  0.761569   \n",
       "recall                      0.774648                       0.748491  0.761569   \n",
       "f1-score                    0.764647                       0.758410  0.761569   \n",
       "support                   497.000000                     497.000000  0.761569   \n",
       "\n",
       "            macro avg  weighted avg  \n",
       "precision    0.761749      0.761749  \n",
       "recall       0.761569      0.761569  \n",
       "f1-score     0.761529      0.761529  \n",
       "support    994.000000    994.000000  "
      ]
     },
     "execution_count": 388,
     "metadata": {},
     "output_type": "execute_result"
    }
   ],
   "source": [
    "classif_report"
   ]
  },
  {
   "cell_type": "code",
   "execution_count": null,
   "metadata": {},
   "outputs": [],
   "source": []
  },
  {
   "cell_type": "code",
   "execution_count": null,
   "metadata": {},
   "outputs": [],
   "source": []
  },
  {
   "cell_type": "code",
   "execution_count": null,
   "metadata": {},
   "outputs": [],
   "source": []
  },
  {
   "cell_type": "code",
   "execution_count": null,
   "metadata": {},
   "outputs": [],
   "source": []
  },
  {
   "cell_type": "code",
   "execution_count": null,
   "metadata": {},
   "outputs": [],
   "source": []
  },
  {
   "cell_type": "code",
   "execution_count": null,
   "metadata": {},
   "outputs": [],
   "source": []
  },
  {
   "cell_type": "code",
   "execution_count": null,
   "metadata": {},
   "outputs": [],
   "source": []
  },
  {
   "cell_type": "code",
   "execution_count": null,
   "metadata": {},
   "outputs": [],
   "source": []
  },
  {
   "cell_type": "code",
   "execution_count": null,
   "metadata": {},
   "outputs": [],
   "source": []
  },
  {
   "cell_type": "code",
   "execution_count": null,
   "metadata": {},
   "outputs": [],
   "source": []
  },
  {
   "cell_type": "code",
   "execution_count": null,
   "metadata": {},
   "outputs": [],
   "source": [
    "print(type(X_train), len(X_train), type(X_train[0]), X_train[0].shape)\n",
    "print(type(y_train), len(y_train), type(y_train[0]), y_train[0])\n"
   ]
  }
 ],
 "metadata": {
  "kernelspec": {
   "display_name": "cv101",
   "language": "python",
   "name": "cv101"
  },
  "language_info": {
   "codemirror_mode": {
    "name": "ipython",
    "version": 3
   },
   "file_extension": ".py",
   "mimetype": "text/x-python",
   "name": "python",
   "nbconvert_exporter": "python",
   "pygments_lexer": "ipython3",
   "version": "3.6.9"
  }
 },
 "nbformat": 4,
 "nbformat_minor": 4
}
